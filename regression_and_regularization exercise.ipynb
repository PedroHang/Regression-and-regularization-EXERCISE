{
 "cells": [
  {
   "cell_type": "markdown",
   "metadata": {},
   "source": [
    "# **EBAC/Regressão II: Regressão Múltipla**\n"
   ]
  },
  {
   "cell_type": "markdown",
   "metadata": {},
   "source": [
    "\n",
    "## **Tarefa I: Previsão de renda II**"
   ]
  },
  {
   "cell_type": "markdown",
   "metadata": {},
   "source": [
    "####\n",
    "\n",
    "Vamos continuar trabalhando com a base 'previsao_de_renda.csv', que é a base do seu próximo projeto. Vamos usar os recursos que vimos até aqui nesta base.\n",
    "\n",
    "|variavel|descrição|\n",
    "|-|-|\n",
    "|data_ref                | Data de referência de coleta das variáveis |\n",
    "|index                   | Código de identificação do cliente|\n",
    "|sexo                    | Sexo do cliente|\n",
    "|posse_de_veiculo        | Indica se o cliente possui veículo|\n",
    "|posse_de_imovel         | Indica se o cliente possui imóvel|\n",
    "|qtd_filhos              | Quantidade de filhos do cliente|\n",
    "|tipo_renda              | Tipo de renda do cliente|\n",
    "|educacao                | Grau de instrução do cliente|\n",
    "|estado_civil            | Estado civil do cliente|\n",
    "|tipo_residencia         | Tipo de residência do cliente (própria, alugada etc)|\n",
    "|idade                   | Idade do cliente|\n",
    "|tempo_emprego           | Tempo no emprego atual|\n",
    "|qt_pessoas_residencia   | Quantidade de pessoas que moram na residência|\n",
    "|renda                   | Renda em reais|"
   ]
  },
  {
   "cell_type": "markdown",
   "metadata": {},
   "source": [
    "1. Separe a base em treinamento e teste (25% para teste, 75% para treinamento).\n",
    "2. Rode uma regularização *ridge* com alpha = [0, 0.001, 0.005, 0.01, 0.05, 0.1] e avalie o $R^2$ na base de testes. Qual o melhor modelo?\n",
    "3. Faça o mesmo que no passo 2, com uma regressão *LASSO*. Qual método chega a um melhor resultado?\n",
    "4. Rode um modelo *stepwise*. Avalie o $R^2$ na vase de testes. Qual o melhor resultado?\n",
    "5. Compare os parâmetros e avalie eventuais diferenças. Qual modelo você acha o melhor de todos?\n",
    "6. Partindo dos modelos que você ajustou, tente melhorar o $R^2$ na base de testes. Use a criatividade, veja se consegue inserir alguma transformação ou combinação de variáveis.\n",
    "7. Ajuste uma árvore de regressão e veja se consegue um $R^2$ melhor com ela."
   ]
  },
  {
   "cell_type": "code",
   "execution_count": 7,
   "metadata": {},
   "outputs": [],
   "source": [
    "# Importação das bibliotecas\n",
    "import pandas as pd\n",
    "import numpy as np\n",
    "\n",
    "import seaborn as sns\n",
    "import matplotlib.pyplot as plt\n",
    "\n",
    "from sklearn.model_selection import train_test_split\n",
    "from sklearn.metrics import r2_score\n",
    "# from sklearn import metrics\n",
    "# from sklearn.ensemble import RandomForestClassifier\n",
    "\n",
    "# from scipy.stats import ks_2samp\n",
    "import statsmodels.formula.api as smf\n",
    "import statsmodels.api as sm\n",
    "import patsy\n",
    "from sklearn.tree import DecisionTreeRegressor\n",
    "from sklearn import tree\n",
    "from sklearn.metrics import mean_squared_error\n",
    "\n",
    "%matplotlib inline"
   ]
  },
  {
   "cell_type": "markdown",
   "metadata": {},
   "source": [
    "## **1. Carregando o dado**"
   ]
  },
  {
   "cell_type": "code",
   "execution_count": 8,
   "metadata": {},
   "outputs": [],
   "source": [
    "df = pd.read_csv('previsao_de_renda.csv')"
   ]
  },
  {
   "cell_type": "markdown",
   "metadata": {},
   "source": [
    "## **1.1 Exploração e Limpeza**"
   ]
  },
  {
   "cell_type": "code",
   "execution_count": 9,
   "metadata": {},
   "outputs": [
    {
     "name": "stdout",
     "output_type": "stream",
     "text": [
      "Descritiva Inicial\n",
      "\n",
      "<class 'pandas.core.frame.DataFrame'>\n",
      "RangeIndex: 15000 entries, 0 to 14999\n",
      "Data columns (total 15 columns):\n",
      " #   Column                 Non-Null Count  Dtype  \n",
      "---  ------                 --------------  -----  \n",
      " 0   Unnamed: 0             15000 non-null  int64  \n",
      " 1   data_ref               15000 non-null  object \n",
      " 2   id_cliente             15000 non-null  int64  \n",
      " 3   sexo                   15000 non-null  object \n",
      " 4   posse_de_veiculo       15000 non-null  bool   \n",
      " 5   posse_de_imovel        15000 non-null  bool   \n",
      " 6   qtd_filhos             15000 non-null  int64  \n",
      " 7   tipo_renda             15000 non-null  object \n",
      " 8   educacao               15000 non-null  object \n",
      " 9   estado_civil           15000 non-null  object \n",
      " 10  tipo_residencia        15000 non-null  object \n",
      " 11  idade                  15000 non-null  int64  \n",
      " 12  tempo_emprego          12427 non-null  float64\n",
      " 13  qt_pessoas_residencia  15000 non-null  float64\n",
      " 14  renda                  15000 non-null  float64\n",
      "dtypes: bool(2), float64(3), int64(4), object(6)\n",
      "memory usage: 1.5+ MB\n"
     ]
    }
   ],
   "source": [
    "print(\"Descritiva Inicial\\n\")\n",
    "df.info()"
   ]
  },
  {
   "cell_type": "code",
   "execution_count": 10,
   "metadata": {},
   "outputs": [
    {
     "name": "stdout",
     "output_type": "stream",
     "text": [
      "Descritiva Após a Limpeza\n",
      "\n",
      "<class 'pandas.core.frame.DataFrame'>\n",
      "RangeIndex: 15000 entries, 0 to 14999\n",
      "Data columns (total 12 columns):\n",
      " #   Column                 Non-Null Count  Dtype  \n",
      "---  ------                 --------------  -----  \n",
      " 0   sexo                   15000 non-null  object \n",
      " 1   posse_de_veiculo       15000 non-null  bool   \n",
      " 2   posse_de_imovel        15000 non-null  bool   \n",
      " 3   qtd_filhos             15000 non-null  int64  \n",
      " 4   tipo_renda             15000 non-null  object \n",
      " 5   educacao               15000 non-null  object \n",
      " 6   estado_civil           15000 non-null  object \n",
      " 7   tipo_residencia        15000 non-null  object \n",
      " 8   idade                  15000 non-null  int64  \n",
      " 9   tempo_emprego          12427 non-null  float64\n",
      " 10  qt_pessoas_residencia  15000 non-null  float64\n",
      " 11  renda                  15000 non-null  float64\n",
      "dtypes: bool(2), float64(3), int64(2), object(5)\n",
      "memory usage: 1.2+ MB\n"
     ]
    }
   ],
   "source": [
    "df = df.drop(['Unnamed: 0','data_ref','id_cliente'], axis = 1)\n",
    "\n",
    "print(\"Descritiva Após a Limpeza\\n\")\n",
    "df.info()"
   ]
  },
  {
   "cell_type": "markdown",
   "metadata": {},
   "source": [
    "#### **Ex. 1) Separe a base em treinamento e teste (25% para teste, 75% para treinamento)**"
   ]
  },
  {
   "cell_type": "code",
   "execution_count": 12,
   "metadata": {},
   "outputs": [],
   "source": [
    "df_train, df_test = train_test_split(df,test_size = 0.25, random_state =42) "
   ]
  },
  {
   "cell_type": "markdown",
   "metadata": {},
   "source": [
    "#### **Ex. 2) 2. Rode uma regularização *ridge* com alpha = [0, 0.001, 0.005, 0.01, 0.05, 0.1] e avalie o $R^2$ na base de testes. Qual o melhor modelo?** "
   ]
  },
  {
   "cell_type": "code",
   "execution_count": 17,
   "metadata": {},
   "outputs": [],
   "source": [
    "# Criando o modelo a apartir dos dados\n",
    "\n",
    "eq1 = ''' renda ~ sexo\n",
    "                   + posse_de_veiculo\n",
    "                   + posse_de_imovel\n",
    "                   + qtd_filhos\n",
    "                   + tipo_renda\n",
    "                   + educacao\n",
    "                   + estado_civil\n",
    "                   + tipo_residencia\n",
    "                   + idade\n",
    "                   + tempo_emprego\n",
    "                   + qt_pessoas_residencia\n",
    "                   '''\n",
    "y_train, X_train= patsy.dmatrices(formula_like=eq1, data=df_train)\n",
    "y_test, X_test = patsy.dmatrices(formula_like=eq1, data=df_test)"
   ]
  },
  {
   "cell_type": "code",
   "execution_count": 18,
   "metadata": {},
   "outputs": [],
   "source": [
    "## Ridge e Lasso\n",
    "\n",
    "alphas = [0,0.001,0.005,0.01,0.05,0.1]\n",
    "r2_ridge = []\n",
    "r2_lasso = []\n",
    "\n",
    "for alpha in alphas:\n",
    "    modelo = sm.OLS(y_train, X_train)\n",
    "    reg_ridge = modelo.fit_regularized(method='elastic_net',\n",
    "                                     refit=True,\n",
    "                                     L1_wt=0, #ridge\n",
    "                                     alpha = alpha)\n",
    "    \n",
    "    reg_lasso = modelo.fit_regularized(method='elastic_net',\n",
    "                                     refit=True,\n",
    "                                     L1_wt=1, #Lasso\n",
    "                                     alpha = alpha)\n",
    "    y_pred_ridge = reg_ridge.predict(X_test)\n",
    "    y_pred_lasso = reg_lasso.predict(X_test)\n",
    "    aux = r2_score(y_test, y_pred_ridge)\n",
    "    tmp = r2_score(y_test, y_pred_lasso)\n",
    "    \n",
    "    r2_ridge.append(aux)\n",
    "    r2_lasso.append(tmp)\n",
    "\n"
   ]
  },
  {
   "cell_type": "code",
   "execution_count": 19,
   "metadata": {},
   "outputs": [
    {
     "data": {
      "text/html": [
       "<div>\n",
       "<style scoped>\n",
       "    .dataframe tbody tr th:only-of-type {\n",
       "        vertical-align: middle;\n",
       "    }\n",
       "\n",
       "    .dataframe tbody tr th {\n",
       "        vertical-align: top;\n",
       "    }\n",
       "\n",
       "    .dataframe thead th {\n",
       "        text-align: right;\n",
       "    }\n",
       "</style>\n",
       "<table border=\"1\" class=\"dataframe\">\n",
       "  <thead>\n",
       "    <tr style=\"text-align: right;\">\n",
       "      <th></th>\n",
       "      <th>alpha</th>\n",
       "      <th>R2 (Ridge)</th>\n",
       "      <th>R2 (Lasso)</th>\n",
       "    </tr>\n",
       "  </thead>\n",
       "  <tbody>\n",
       "    <tr>\n",
       "      <th>0</th>\n",
       "      <td>0.000</td>\n",
       "      <td>0.262434</td>\n",
       "      <td>0.262434</td>\n",
       "    </tr>\n",
       "    <tr>\n",
       "      <th>1</th>\n",
       "      <td>0.001</td>\n",
       "      <td>0.262262</td>\n",
       "      <td>0.262434</td>\n",
       "    </tr>\n",
       "    <tr>\n",
       "      <th>2</th>\n",
       "      <td>0.005</td>\n",
       "      <td>0.261966</td>\n",
       "      <td>0.262434</td>\n",
       "    </tr>\n",
       "    <tr>\n",
       "      <th>3</th>\n",
       "      <td>0.010</td>\n",
       "      <td>0.261568</td>\n",
       "      <td>0.262434</td>\n",
       "    </tr>\n",
       "    <tr>\n",
       "      <th>4</th>\n",
       "      <td>0.050</td>\n",
       "      <td>0.256383</td>\n",
       "      <td>0.262500</td>\n",
       "    </tr>\n",
       "    <tr>\n",
       "      <th>5</th>\n",
       "      <td>0.100</td>\n",
       "      <td>0.248634</td>\n",
       "      <td>0.262434</td>\n",
       "    </tr>\n",
       "  </tbody>\n",
       "</table>\n",
       "</div>"
      ],
      "text/plain": [
       "   alpha  R2 (Ridge)  R2 (Lasso)\n",
       "0  0.000    0.262434    0.262434\n",
       "1  0.001    0.262262    0.262434\n",
       "2  0.005    0.261966    0.262434\n",
       "3  0.010    0.261568    0.262434\n",
       "4  0.050    0.256383    0.262500\n",
       "5  0.100    0.248634    0.262434"
      ]
     },
     "execution_count": 19,
     "metadata": {},
     "output_type": "execute_result"
    }
   ],
   "source": [
    "tab = pd.DataFrame({'alpha':alphas,\n",
    "              'R2 (Ridge)': r2_ridge,  'R2 (Lasso)': r2_lasso})\n",
    "\n",
    "tab"
   ]
  },
  {
   "cell_type": "code",
   "execution_count": 21,
   "metadata": {},
   "outputs": [
    {
     "name": "stdout",
     "output_type": "stream",
     "text": [
      "Melhor R2 para Ridge:\n",
      "0.26243403442818514\n",
      "\n",
      "Melhor R2 para Lasso:\n",
      "0.2625001021319665\n"
     ]
    }
   ],
   "source": [
    "# Encontrando o melhor R2 para Ridge\n",
    "best_r2_ridge = tab.loc[tab['R2 (Ridge)'].idxmax()]['R2 (Ridge)']\n",
    "\n",
    "# Encontrando o melhor R2 para Lasso\n",
    "best_r2_lasso = tab.loc[tab['R2 (Lasso)'].idxmax()]['R2 (Lasso)']\n",
    "\n",
    "print(\"Melhor R2 para Ridge:\")\n",
    "print(best_r2_ridge)\n",
    "\n",
    "print(\"\\nMelhor R2 para Lasso:\")\n",
    "print(best_r2_lasso)"
   ]
  },
  {
   "cell_type": "code",
   "execution_count": 24,
   "metadata": {},
   "outputs": [
    {
     "name": "stdout",
     "output_type": "stream",
     "text": [
      "Entre os dois o Melhor foi o Lasso com\n",
      "0.2625001021319665\n"
     ]
    }
   ],
   "source": [
    "\n",
    "print(\"Entre os dois o Melhor foi o Lasso com\")\n",
    "print(best_r2_lasso)"
   ]
  },
  {
   "cell_type": "markdown",
   "metadata": {},
   "source": [
    "Mas se considerarmos duas casas decimais não exsitem diferenças significativas entre eles."
   ]
  },
  {
   "cell_type": "markdown",
   "metadata": {},
   "source": [
    "#### **Ex. 3. Faça o mesmo que no passo 2, com uma regressão *LASSO*. Qual método chega a um melhor resultado?**\n"
   ]
  },
  {
   "cell_type": "markdown",
   "metadata": {},
   "source": [
    "Feito junto com **Ex.2** "
   ]
  },
  {
   "cell_type": "markdown",
   "metadata": {},
   "source": [
    "\n",
    "#### **Ex. 4. Rode um modelo *stepwise*. Avalie o $R^2$ na vase de testes. Qual o melhor resultado?**\n"
   ]
  },
  {
   "cell_type": "code",
   "execution_count": 25,
   "metadata": {},
   "outputs": [],
   "source": [
    "\n",
    "df_dummies = pd.get_dummies(data=df.dropna(), drop_first=True).astype(int)\n",
    "\n",
    "X = df_dummies.iloc[:, :-1]\n",
    "y = df_dummies.iloc[:, -1]\n",
    "\n",
    "X_train, X_test, y_train, y_test = train_test_split(X, y, test_size=0.25, random_state=42)\n"
   ]
  },
  {
   "cell_type": "code",
   "execution_count": 28,
   "metadata": {},
   "outputs": [
    {
     "name": "stdout",
     "output_type": "stream",
     "text": [
      "Adicione  sexo_M                         com p-value 9.62952e-69\n",
      "Adicione  idade                          com p-value 5.4702e-26\n"
     ]
    }
   ],
   "source": [
    "def stepwise_selection(X, y, \n",
    "                       initial_list=[], \n",
    "                       threshold_in=0.01, \n",
    "                       threshold_out=0.05, \n",
    "                       verbose=True):\n",
    "    \n",
    "    included = list(initial_list)\n",
    "    while True:\n",
    "        changed = False\n",
    "        # forward step\n",
    "        excluded = list(set(X.columns) - set(included))\n",
    "        new_pval = pd.Series(dtype=float, index=excluded)\n",
    "        for new_column in excluded:\n",
    "            model = sm.OLS(y, sm.add_constant(pd.DataFrame(X[included + [new_column]]))).fit()\n",
    "            new_pval[new_column] = model.pvalues[new_column]\n",
    "        best_pval = new_pval.min()\n",
    "        if best_pval < threshold_in:\n",
    "            best_feature = new_pval.idxmin()\n",
    "            included.append(best_feature)\n",
    "            changed = True\n",
    "            if verbose:\n",
    "                print('Adicione  {:30} com p-value {:.6}'.format(best_feature, best_pval))\n",
    "\n",
    "        # backward step\n",
    "        model = sm.OLS(y, sm.add_constant(pd.DataFrame(X[included]))).fit()\n",
    "        # use all coefs except intercept\n",
    "        pvalues = model.pvalues.iloc[1:]\n",
    "        worst_pval = pvalues.max()  # null if pvalues is empty\n",
    "        if worst_pval > threshold_out:\n",
    "            worst_feature = pvalues.idxmax()\n",
    "            included.remove(worst_feature)\n",
    "            changed = True\n",
    "            if verbose:\n",
    "                print('Retire {:30} com p-value {:.6}'.format(worst_feature, worst_pval))\n",
    "        if not changed:\n",
    "            break\n",
    "    return included\n",
    "\n",
    "results = stepwise_selection(X_test, y_test)"
   ]
  },
  {
   "cell_type": "code",
   "execution_count": 29,
   "metadata": {},
   "outputs": [
    {
     "name": "stdout",
     "output_type": "stream",
     "text": [
      "R2: 0.12244938441873898\n"
     ]
    }
   ],
   "source": [
    "X_step = df_dummies[results]\n",
    "y = df_dummies['renda']\n",
    "X_train, X_test, y_train, y_test = train_test_split(X_step, y, test_size=0.25, random_state=42)\n",
    "\n",
    "y_pred = sm.OLS(y_train, X_train).fit().predict(X_test)\n",
    "print(f'R2: {r2_score(y_test, y_pred)}')"
   ]
  },
  {
   "cell_type": "code",
   "execution_count": 30,
   "metadata": {},
   "outputs": [
    {
     "data": {
      "text/html": [
       "<div>\n",
       "<style scoped>\n",
       "    .dataframe tbody tr th:only-of-type {\n",
       "        vertical-align: middle;\n",
       "    }\n",
       "\n",
       "    .dataframe tbody tr th {\n",
       "        vertical-align: top;\n",
       "    }\n",
       "\n",
       "    .dataframe thead th {\n",
       "        text-align: right;\n",
       "    }\n",
       "</style>\n",
       "<table border=\"1\" class=\"dataframe\">\n",
       "  <thead>\n",
       "    <tr style=\"text-align: right;\">\n",
       "      <th></th>\n",
       "      <th>alpha</th>\n",
       "      <th>R2 Stepwise (Ridge)</th>\n",
       "      <th>R2 Stepwise (Lasso)</th>\n",
       "    </tr>\n",
       "  </thead>\n",
       "  <tbody>\n",
       "    <tr>\n",
       "      <th>0</th>\n",
       "      <td>0.000</td>\n",
       "      <td>0.122449</td>\n",
       "      <td>0.122449</td>\n",
       "    </tr>\n",
       "    <tr>\n",
       "      <th>1</th>\n",
       "      <td>0.001</td>\n",
       "      <td>0.122476</td>\n",
       "      <td>0.122449</td>\n",
       "    </tr>\n",
       "    <tr>\n",
       "      <th>2</th>\n",
       "      <td>0.005</td>\n",
       "      <td>0.122548</td>\n",
       "      <td>0.122449</td>\n",
       "    </tr>\n",
       "    <tr>\n",
       "      <th>3</th>\n",
       "      <td>0.010</td>\n",
       "      <td>0.122562</td>\n",
       "      <td>0.122449</td>\n",
       "    </tr>\n",
       "    <tr>\n",
       "      <th>4</th>\n",
       "      <td>0.050</td>\n",
       "      <td>0.120542</td>\n",
       "      <td>0.122449</td>\n",
       "    </tr>\n",
       "    <tr>\n",
       "      <th>5</th>\n",
       "      <td>0.100</td>\n",
       "      <td>0.115369</td>\n",
       "      <td>0.122449</td>\n",
       "    </tr>\n",
       "  </tbody>\n",
       "</table>\n",
       "</div>"
      ],
      "text/plain": [
       "   alpha  R2 Stepwise (Ridge)  R2 Stepwise (Lasso)\n",
       "0  0.000             0.122449             0.122449\n",
       "1  0.001             0.122476             0.122449\n",
       "2  0.005             0.122548             0.122449\n",
       "3  0.010             0.122562             0.122449\n",
       "4  0.050             0.120542             0.122449\n",
       "5  0.100             0.115369             0.122449"
      ]
     },
     "execution_count": 30,
     "metadata": {},
     "output_type": "execute_result"
    }
   ],
   "source": [
    "## Ridge e Lasso\n",
    "\n",
    "alphas = [0,0.001,0.005,0.01,0.05,0.1]\n",
    "r2_ridge = []\n",
    "r2_lasso = []\n",
    "\n",
    "for alpha in alphas:\n",
    "    modelo = sm.OLS(y_train, X_train)\n",
    "    reg_ridge = modelo.fit_regularized(method='elastic_net',\n",
    "                                     refit=True,\n",
    "                                     L1_wt=0, #ridge\n",
    "                                     alpha = alpha)\n",
    "    \n",
    "    reg_lasso = modelo.fit_regularized(method='elastic_net',\n",
    "                                     refit=True,\n",
    "                                     L1_wt=1, #Lasso\n",
    "                                     alpha = alpha)\n",
    "    y_pred_ridge = reg_ridge.predict(X_test)\n",
    "    y_pred_lasso = reg_lasso.predict(X_test)\n",
    "    aux = r2_score(y_test, y_pred_ridge)\n",
    "    tmp = r2_score(y_test, y_pred_lasso)\n",
    "    \n",
    "    r2_ridge.append(aux)\n",
    "    r2_lasso.append(tmp)\n",
    "\n",
    "\n",
    "tab = pd.DataFrame({'alpha':alphas,\n",
    "              'R2 Stepwise (Ridge)': r2_ridge,  'R2 Stepwise (Lasso)': r2_lasso})\n",
    "\n",
    "tab\n"
   ]
  },
  {
   "cell_type": "code",
   "execution_count": 31,
   "metadata": {},
   "outputs": [
    {
     "data": {
      "text/html": [
       "<div>\n",
       "<style scoped>\n",
       "    .dataframe tbody tr th:only-of-type {\n",
       "        vertical-align: middle;\n",
       "    }\n",
       "\n",
       "    .dataframe tbody tr th {\n",
       "        vertical-align: top;\n",
       "    }\n",
       "\n",
       "    .dataframe thead th {\n",
       "        text-align: right;\n",
       "    }\n",
       "</style>\n",
       "<table border=\"1\" class=\"dataframe\">\n",
       "  <thead>\n",
       "    <tr style=\"text-align: right;\">\n",
       "      <th></th>\n",
       "      <th>alpha</th>\n",
       "      <th>R2 Stepwise (Ridge)</th>\n",
       "      <th>R2 Stepwise (Lasso)</th>\n",
       "    </tr>\n",
       "  </thead>\n",
       "  <tbody>\n",
       "    <tr>\n",
       "      <th>count</th>\n",
       "      <td>6.000000</td>\n",
       "      <td>6.000000</td>\n",
       "      <td>6.000000</td>\n",
       "    </tr>\n",
       "    <tr>\n",
       "      <th>mean</th>\n",
       "      <td>0.027667</td>\n",
       "      <td>0.120991</td>\n",
       "      <td>0.122449</td>\n",
       "    </tr>\n",
       "    <tr>\n",
       "      <th>std</th>\n",
       "      <td>0.040083</td>\n",
       "      <td>0.002865</td>\n",
       "      <td>0.000000</td>\n",
       "    </tr>\n",
       "    <tr>\n",
       "      <th>min</th>\n",
       "      <td>0.000000</td>\n",
       "      <td>0.115369</td>\n",
       "      <td>0.122449</td>\n",
       "    </tr>\n",
       "    <tr>\n",
       "      <th>25%</th>\n",
       "      <td>0.002000</td>\n",
       "      <td>0.121019</td>\n",
       "      <td>0.122449</td>\n",
       "    </tr>\n",
       "    <tr>\n",
       "      <th>50%</th>\n",
       "      <td>0.007500</td>\n",
       "      <td>0.122463</td>\n",
       "      <td>0.122449</td>\n",
       "    </tr>\n",
       "    <tr>\n",
       "      <th>75%</th>\n",
       "      <td>0.040000</td>\n",
       "      <td>0.122530</td>\n",
       "      <td>0.122449</td>\n",
       "    </tr>\n",
       "    <tr>\n",
       "      <th>max</th>\n",
       "      <td>0.100000</td>\n",
       "      <td>0.122562</td>\n",
       "      <td>0.122449</td>\n",
       "    </tr>\n",
       "  </tbody>\n",
       "</table>\n",
       "</div>"
      ],
      "text/plain": [
       "          alpha  R2 Stepwise (Ridge)  R2 Stepwise (Lasso)\n",
       "count  6.000000             6.000000             6.000000\n",
       "mean   0.027667             0.120991             0.122449\n",
       "std    0.040083             0.002865             0.000000\n",
       "min    0.000000             0.115369             0.122449\n",
       "25%    0.002000             0.121019             0.122449\n",
       "50%    0.007500             0.122463             0.122449\n",
       "75%    0.040000             0.122530             0.122449\n",
       "max    0.100000             0.122562             0.122449"
      ]
     },
     "execution_count": 31,
     "metadata": {},
     "output_type": "execute_result"
    }
   ],
   "source": [
    "tab.describe()"
   ]
  },
  {
   "cell_type": "markdown",
   "metadata": {},
   "source": [
    "\n",
    "#### **Ex. 5. Compare os parâmetros e avalie eventuais diferenças. Qual modelo você acha o melhor de todos?**\n"
   ]
  },
  {
   "cell_type": "markdown",
   "metadata": {},
   "source": [
    "<h4 style=\"color:green\">No loop executado anteriormente, fica nítido que o modelo Stepwise para Lasso apresenta um desvio padrão nulo para o R quadrado, permanecendo o mesmo para todos os valores de alpha. Já o modelo stepwise para Ridge consegue variar o R quadrado conforme as diferentes iterações de alpha, além de apresentar maior valor </h4>"
   ]
  },
  {
   "cell_type": "markdown",
   "metadata": {},
   "source": [
    "\n",
    "#### **Ex. 6. Partindo dos modelos que você ajustou, tente melhorar o $R^2$ na base de testes. Use a criatividade, veja se consegue inserir alguma transformação ou combinação de variáveis.**\n"
   ]
  },
  {
   "cell_type": "markdown",
   "metadata": {},
   "source": [
    "Aqui é apar ser criativo é criar uma nova e2"
   ]
  },
  {
   "cell_type": "code",
   "execution_count": 38,
   "metadata": {},
   "outputs": [
    {
     "data": {
      "text/html": [
       "<table class=\"simpletable\">\n",
       "<caption>OLS Regression Results</caption>\n",
       "<tr>\n",
       "  <th>Dep. Variable:</th>      <td>np.log(renda)</td>  <th>  R-squared:         </th> <td>   0.356</td> \n",
       "</tr>\n",
       "<tr>\n",
       "  <th>Model:</th>                   <td>OLS</td>       <th>  Adj. R-squared:    </th> <td>   0.354</td> \n",
       "</tr>\n",
       "<tr>\n",
       "  <th>Method:</th>             <td>Least Squares</td>  <th>  F-statistic:       </th> <td>   214.0</td> \n",
       "</tr>\n",
       "<tr>\n",
       "  <th>Date:</th>             <td>Sun, 09 Jun 2024</td> <th>  Prob (F-statistic):</th>  <td>  0.00</td>  \n",
       "</tr>\n",
       "<tr>\n",
       "  <th>Time:</th>                 <td>10:27:43</td>     <th>  Log-Likelihood:    </th> <td> -10180.</td> \n",
       "</tr>\n",
       "<tr>\n",
       "  <th>No. Observations:</th>      <td>  9313</td>      <th>  AIC:               </th> <td>2.041e+04</td>\n",
       "</tr>\n",
       "<tr>\n",
       "  <th>Df Residuals:</th>          <td>  9288</td>      <th>  BIC:               </th> <td>2.059e+04</td>\n",
       "</tr>\n",
       "<tr>\n",
       "  <th>Df Model:</th>              <td>    24</td>      <th>                     </th>     <td> </td>    \n",
       "</tr>\n",
       "<tr>\n",
       "  <th>Covariance Type:</th>      <td>nonrobust</td>    <th>                     </th>     <td> </td>    \n",
       "</tr>\n",
       "</table>\n",
       "<table class=\"simpletable\">\n",
       "<tr>\n",
       "                  <td></td>                    <th>coef</th>     <th>std err</th>      <th>t</th>      <th>P>|t|</th>  <th>[0.025</th>    <th>0.975]</th>  \n",
       "</tr>\n",
       "<tr>\n",
       "  <th>Intercept</th>                        <td>    6.6594</td> <td>    0.271</td> <td>   24.577</td> <td> 0.000</td> <td>    6.128</td> <td>    7.191</td>\n",
       "</tr>\n",
       "<tr>\n",
       "  <th>sexo[T.M]</th>                        <td>    0.7830</td> <td>    0.017</td> <td>   45.956</td> <td> 0.000</td> <td>    0.750</td> <td>    0.816</td>\n",
       "</tr>\n",
       "<tr>\n",
       "  <th>posse_de_veiculo[T.True]</th>         <td>    0.0469</td> <td>    0.016</td> <td>    2.857</td> <td> 0.004</td> <td>    0.015</td> <td>    0.079</td>\n",
       "</tr>\n",
       "<tr>\n",
       "  <th>posse_de_imovel[T.True]</th>          <td>    0.0802</td> <td>    0.016</td> <td>    4.959</td> <td> 0.000</td> <td>    0.049</td> <td>    0.112</td>\n",
       "</tr>\n",
       "<tr>\n",
       "  <th>tipo_renda[T.Bolsista]</th>           <td>    0.2451</td> <td>    0.296</td> <td>    0.829</td> <td> 0.407</td> <td>   -0.335</td> <td>    0.825</td>\n",
       "</tr>\n",
       "<tr>\n",
       "  <th>tipo_renda[T.Empresário]</th>         <td>    0.1645</td> <td>    0.017</td> <td>    9.535</td> <td> 0.000</td> <td>    0.131</td> <td>    0.198</td>\n",
       "</tr>\n",
       "<tr>\n",
       "  <th>tipo_renda[T.Pensionista]</th>        <td>   -0.4524</td> <td>    0.362</td> <td>   -1.250</td> <td> 0.211</td> <td>   -1.162</td> <td>    0.257</td>\n",
       "</tr>\n",
       "<tr>\n",
       "  <th>tipo_renda[T.Servidor público]</th>   <td>    0.0600</td> <td>    0.026</td> <td>    2.294</td> <td> 0.022</td> <td>    0.009</td> <td>    0.111</td>\n",
       "</tr>\n",
       "<tr>\n",
       "  <th>educacao[T.Pós graduação]</th>        <td>    0.1777</td> <td>    0.194</td> <td>    0.917</td> <td> 0.359</td> <td>   -0.202</td> <td>    0.558</td>\n",
       "</tr>\n",
       "<tr>\n",
       "  <th>educacao[T.Secundário]</th>           <td>   -0.0205</td> <td>    0.082</td> <td>   -0.250</td> <td> 0.803</td> <td>   -0.181</td> <td>    0.140</td>\n",
       "</tr>\n",
       "<tr>\n",
       "  <th>educacao[T.Superior completo]</th>    <td>    0.0906</td> <td>    0.082</td> <td>    1.100</td> <td> 0.271</td> <td>   -0.071</td> <td>    0.252</td>\n",
       "</tr>\n",
       "<tr>\n",
       "  <th>educacao[T.Superior incompleto]</th>  <td>   -0.0776</td> <td>    0.089</td> <td>   -0.871</td> <td> 0.384</td> <td>   -0.252</td> <td>    0.097</td>\n",
       "</tr>\n",
       "<tr>\n",
       "  <th>estado_civil[T.Separado]</th>         <td>    0.2647</td> <td>    0.128</td> <td>    2.065</td> <td> 0.039</td> <td>    0.013</td> <td>    0.516</td>\n",
       "</tr>\n",
       "<tr>\n",
       "  <th>estado_civil[T.Solteiro]</th>         <td>    0.2178</td> <td>    0.125</td> <td>    1.736</td> <td> 0.083</td> <td>   -0.028</td> <td>    0.464</td>\n",
       "</tr>\n",
       "<tr>\n",
       "  <th>estado_civil[T.União]</th>            <td>   -0.0140</td> <td>    0.029</td> <td>   -0.478</td> <td> 0.633</td> <td>   -0.071</td> <td>    0.043</td>\n",
       "</tr>\n",
       "<tr>\n",
       "  <th>estado_civil[T.Viúvo]</th>            <td>    0.3126</td> <td>    0.133</td> <td>    2.352</td> <td> 0.019</td> <td>    0.052</td> <td>    0.573</td>\n",
       "</tr>\n",
       "<tr>\n",
       "  <th>tipo_residencia[T.Casa]</th>          <td>    0.0071</td> <td>    0.065</td> <td>    0.111</td> <td> 0.912</td> <td>   -0.119</td> <td>    0.134</td>\n",
       "</tr>\n",
       "<tr>\n",
       "  <th>tipo_residencia[T.Com os pais]</th>   <td>    0.0437</td> <td>    0.072</td> <td>    0.610</td> <td> 0.542</td> <td>   -0.097</td> <td>    0.184</td>\n",
       "</tr>\n",
       "<tr>\n",
       "  <th>tipo_residencia[T.Comunitário]</th>   <td>   -0.0535</td> <td>    0.120</td> <td>   -0.447</td> <td> 0.655</td> <td>   -0.288</td> <td>    0.181</td>\n",
       "</tr>\n",
       "<tr>\n",
       "  <th>tipo_residencia[T.Estúdio]</th>       <td>    0.1710</td> <td>    0.113</td> <td>    1.508</td> <td> 0.132</td> <td>   -0.051</td> <td>    0.393</td>\n",
       "</tr>\n",
       "<tr>\n",
       "  <th>tipo_residencia[T.Governamental]</th> <td>   -0.0007</td> <td>    0.078</td> <td>   -0.008</td> <td> 0.993</td> <td>   -0.153</td> <td>    0.151</td>\n",
       "</tr>\n",
       "<tr>\n",
       "  <th>qtd_filhos</th>                       <td>   -0.2107</td> <td>    0.124</td> <td>   -1.693</td> <td> 0.090</td> <td>   -0.455</td> <td>    0.033</td>\n",
       "</tr>\n",
       "<tr>\n",
       "  <th>idade</th>                            <td>    0.0050</td> <td>    0.001</td> <td>    5.399</td> <td> 0.000</td> <td>    0.003</td> <td>    0.007</td>\n",
       "</tr>\n",
       "<tr>\n",
       "  <th>tempo_emprego</th>                    <td>    0.0611</td> <td>    0.001</td> <td>   51.148</td> <td> 0.000</td> <td>    0.059</td> <td>    0.063</td>\n",
       "</tr>\n",
       "<tr>\n",
       "  <th>qt_pessoas_residencia</th>            <td>    0.2359</td> <td>    0.124</td> <td>    1.900</td> <td> 0.057</td> <td>   -0.008</td> <td>    0.479</td>\n",
       "</tr>\n",
       "</table>\n",
       "<table class=\"simpletable\">\n",
       "<tr>\n",
       "  <th>Omnibus:</th>       <td> 2.308</td> <th>  Durbin-Watson:     </th> <td>   1.992</td>\n",
       "</tr>\n",
       "<tr>\n",
       "  <th>Prob(Omnibus):</th> <td> 0.315</td> <th>  Jarque-Bera (JB):  </th> <td>   2.325</td>\n",
       "</tr>\n",
       "<tr>\n",
       "  <th>Skew:</th>          <td> 0.028</td> <th>  Prob(JB):          </th> <td>   0.313</td>\n",
       "</tr>\n",
       "<tr>\n",
       "  <th>Kurtosis:</th>      <td> 2.947</td> <th>  Cond. No.          </th> <td>2.17e+03</td>\n",
       "</tr>\n",
       "</table><br/><br/>Notes:<br/>[1] Standard Errors assume that the covariance matrix of the errors is correctly specified.<br/>[2] The condition number is large, 2.17e+03. This might indicate that there are<br/>strong multicollinearity or other numerical problems."
      ],
      "text/latex": [
       "\\begin{center}\n",
       "\\begin{tabular}{lclc}\n",
       "\\toprule\n",
       "\\textbf{Dep. Variable:}                    &  np.log(renda)   & \\textbf{  R-squared:         } &     0.356   \\\\\n",
       "\\textbf{Model:}                            &       OLS        & \\textbf{  Adj. R-squared:    } &     0.354   \\\\\n",
       "\\textbf{Method:}                           &  Least Squares   & \\textbf{  F-statistic:       } &     214.0   \\\\\n",
       "\\textbf{Date:}                             & Sun, 09 Jun 2024 & \\textbf{  Prob (F-statistic):} &     0.00    \\\\\n",
       "\\textbf{Time:}                             &     10:27:43     & \\textbf{  Log-Likelihood:    } &   -10180.   \\\\\n",
       "\\textbf{No. Observations:}                 &        9313      & \\textbf{  AIC:               } & 2.041e+04   \\\\\n",
       "\\textbf{Df Residuals:}                     &        9288      & \\textbf{  BIC:               } & 2.059e+04   \\\\\n",
       "\\textbf{Df Model:}                         &          24      & \\textbf{                     } &             \\\\\n",
       "\\textbf{Covariance Type:}                  &    nonrobust     & \\textbf{                     } &             \\\\\n",
       "\\bottomrule\n",
       "\\end{tabular}\n",
       "\\begin{tabular}{lcccccc}\n",
       "                                           & \\textbf{coef} & \\textbf{std err} & \\textbf{t} & \\textbf{P$> |$t$|$} & \\textbf{[0.025} & \\textbf{0.975]}  \\\\\n",
       "\\midrule\n",
       "\\textbf{Intercept}                         &       6.6594  &        0.271     &    24.577  &         0.000        &        6.128    &        7.191     \\\\\n",
       "\\textbf{sexo[T.M]}                         &       0.7830  &        0.017     &    45.956  &         0.000        &        0.750    &        0.816     \\\\\n",
       "\\textbf{posse\\_de\\_veiculo[T.True]}        &       0.0469  &        0.016     &     2.857  &         0.004        &        0.015    &        0.079     \\\\\n",
       "\\textbf{posse\\_de\\_imovel[T.True]}         &       0.0802  &        0.016     &     4.959  &         0.000        &        0.049    &        0.112     \\\\\n",
       "\\textbf{tipo\\_renda[T.Bolsista]}           &       0.2451  &        0.296     &     0.829  &         0.407        &       -0.335    &        0.825     \\\\\n",
       "\\textbf{tipo\\_renda[T.Empresário]}         &       0.1645  &        0.017     &     9.535  &         0.000        &        0.131    &        0.198     \\\\\n",
       "\\textbf{tipo\\_renda[T.Pensionista]}        &      -0.4524  &        0.362     &    -1.250  &         0.211        &       -1.162    &        0.257     \\\\\n",
       "\\textbf{tipo\\_renda[T.Servidor público]}   &       0.0600  &        0.026     &     2.294  &         0.022        &        0.009    &        0.111     \\\\\n",
       "\\textbf{educacao[T.Pós graduação]}         &       0.1777  &        0.194     &     0.917  &         0.359        &       -0.202    &        0.558     \\\\\n",
       "\\textbf{educacao[T.Secundário]}            &      -0.0205  &        0.082     &    -0.250  &         0.803        &       -0.181    &        0.140     \\\\\n",
       "\\textbf{educacao[T.Superior completo]}     &       0.0906  &        0.082     &     1.100  &         0.271        &       -0.071    &        0.252     \\\\\n",
       "\\textbf{educacao[T.Superior incompleto]}   &      -0.0776  &        0.089     &    -0.871  &         0.384        &       -0.252    &        0.097     \\\\\n",
       "\\textbf{estado\\_civil[T.Separado]}         &       0.2647  &        0.128     &     2.065  &         0.039        &        0.013    &        0.516     \\\\\n",
       "\\textbf{estado\\_civil[T.Solteiro]}         &       0.2178  &        0.125     &     1.736  &         0.083        &       -0.028    &        0.464     \\\\\n",
       "\\textbf{estado\\_civil[T.União]}            &      -0.0140  &        0.029     &    -0.478  &         0.633        &       -0.071    &        0.043     \\\\\n",
       "\\textbf{estado\\_civil[T.Viúvo]}            &       0.3126  &        0.133     &     2.352  &         0.019        &        0.052    &        0.573     \\\\\n",
       "\\textbf{tipo\\_residencia[T.Casa]}          &       0.0071  &        0.065     &     0.111  &         0.912        &       -0.119    &        0.134     \\\\\n",
       "\\textbf{tipo\\_residencia[T.Com os pais]}   &       0.0437  &        0.072     &     0.610  &         0.542        &       -0.097    &        0.184     \\\\\n",
       "\\textbf{tipo\\_residencia[T.Comunitário]}   &      -0.0535  &        0.120     &    -0.447  &         0.655        &       -0.288    &        0.181     \\\\\n",
       "\\textbf{tipo\\_residencia[T.Estúdio]}       &       0.1710  &        0.113     &     1.508  &         0.132        &       -0.051    &        0.393     \\\\\n",
       "\\textbf{tipo\\_residencia[T.Governamental]} &      -0.0007  &        0.078     &    -0.008  &         0.993        &       -0.153    &        0.151     \\\\\n",
       "\\textbf{qtd\\_filhos}                       &      -0.2107  &        0.124     &    -1.693  &         0.090        &       -0.455    &        0.033     \\\\\n",
       "\\textbf{idade}                             &       0.0050  &        0.001     &     5.399  &         0.000        &        0.003    &        0.007     \\\\\n",
       "\\textbf{tempo\\_emprego}                    &       0.0611  &        0.001     &    51.148  &         0.000        &        0.059    &        0.063     \\\\\n",
       "\\textbf{qt\\_pessoas\\_residencia}           &       0.2359  &        0.124     &     1.900  &         0.057        &       -0.008    &        0.479     \\\\\n",
       "\\bottomrule\n",
       "\\end{tabular}\n",
       "\\begin{tabular}{lclc}\n",
       "\\textbf{Omnibus:}       &  2.308 & \\textbf{  Durbin-Watson:     } &    1.992  \\\\\n",
       "\\textbf{Prob(Omnibus):} &  0.315 & \\textbf{  Jarque-Bera (JB):  } &    2.325  \\\\\n",
       "\\textbf{Skew:}          &  0.028 & \\textbf{  Prob(JB):          } &    0.313  \\\\\n",
       "\\textbf{Kurtosis:}      &  2.947 & \\textbf{  Cond. No.          } & 2.17e+03  \\\\\n",
       "\\bottomrule\n",
       "\\end{tabular}\n",
       "%\\caption{OLS Regression Results}\n",
       "\\end{center}\n",
       "\n",
       "Notes: \\newline\n",
       " [1] Standard Errors assume that the covariance matrix of the errors is correctly specified. \\newline\n",
       " [2] The condition number is large, 2.17e+03. This might indicate that there are \\newline\n",
       " strong multicollinearity or other numerical problems."
      ],
      "text/plain": [
       "<class 'statsmodels.iolib.summary.Summary'>\n",
       "\"\"\"\n",
       "                            OLS Regression Results                            \n",
       "==============================================================================\n",
       "Dep. Variable:          np.log(renda)   R-squared:                       0.356\n",
       "Model:                            OLS   Adj. R-squared:                  0.354\n",
       "Method:                 Least Squares   F-statistic:                     214.0\n",
       "Date:                Sun, 09 Jun 2024   Prob (F-statistic):               0.00\n",
       "Time:                        10:27:43   Log-Likelihood:                -10180.\n",
       "No. Observations:                9313   AIC:                         2.041e+04\n",
       "Df Residuals:                    9288   BIC:                         2.059e+04\n",
       "Df Model:                          24                                         \n",
       "Covariance Type:            nonrobust                                         \n",
       "====================================================================================================\n",
       "                                       coef    std err          t      P>|t|      [0.025      0.975]\n",
       "----------------------------------------------------------------------------------------------------\n",
       "Intercept                            6.6594      0.271     24.577      0.000       6.128       7.191\n",
       "sexo[T.M]                            0.7830      0.017     45.956      0.000       0.750       0.816\n",
       "posse_de_veiculo[T.True]             0.0469      0.016      2.857      0.004       0.015       0.079\n",
       "posse_de_imovel[T.True]              0.0802      0.016      4.959      0.000       0.049       0.112\n",
       "tipo_renda[T.Bolsista]               0.2451      0.296      0.829      0.407      -0.335       0.825\n",
       "tipo_renda[T.Empresário]             0.1645      0.017      9.535      0.000       0.131       0.198\n",
       "tipo_renda[T.Pensionista]           -0.4524      0.362     -1.250      0.211      -1.162       0.257\n",
       "tipo_renda[T.Servidor público]       0.0600      0.026      2.294      0.022       0.009       0.111\n",
       "educacao[T.Pós graduação]            0.1777      0.194      0.917      0.359      -0.202       0.558\n",
       "educacao[T.Secundário]              -0.0205      0.082     -0.250      0.803      -0.181       0.140\n",
       "educacao[T.Superior completo]        0.0906      0.082      1.100      0.271      -0.071       0.252\n",
       "educacao[T.Superior incompleto]     -0.0776      0.089     -0.871      0.384      -0.252       0.097\n",
       "estado_civil[T.Separado]             0.2647      0.128      2.065      0.039       0.013       0.516\n",
       "estado_civil[T.Solteiro]             0.2178      0.125      1.736      0.083      -0.028       0.464\n",
       "estado_civil[T.União]               -0.0140      0.029     -0.478      0.633      -0.071       0.043\n",
       "estado_civil[T.Viúvo]                0.3126      0.133      2.352      0.019       0.052       0.573\n",
       "tipo_residencia[T.Casa]              0.0071      0.065      0.111      0.912      -0.119       0.134\n",
       "tipo_residencia[T.Com os pais]       0.0437      0.072      0.610      0.542      -0.097       0.184\n",
       "tipo_residencia[T.Comunitário]      -0.0535      0.120     -0.447      0.655      -0.288       0.181\n",
       "tipo_residencia[T.Estúdio]           0.1710      0.113      1.508      0.132      -0.051       0.393\n",
       "tipo_residencia[T.Governamental]    -0.0007      0.078     -0.008      0.993      -0.153       0.151\n",
       "qtd_filhos                          -0.2107      0.124     -1.693      0.090      -0.455       0.033\n",
       "idade                                0.0050      0.001      5.399      0.000       0.003       0.007\n",
       "tempo_emprego                        0.0611      0.001     51.148      0.000       0.059       0.063\n",
       "qt_pessoas_residencia                0.2359      0.124      1.900      0.057      -0.008       0.479\n",
       "==============================================================================\n",
       "Omnibus:                        2.308   Durbin-Watson:                   1.992\n",
       "Prob(Omnibus):                  0.315   Jarque-Bera (JB):                2.325\n",
       "Skew:                           0.028   Prob(JB):                        0.313\n",
       "Kurtosis:                       2.947   Cond. No.                     2.17e+03\n",
       "==============================================================================\n",
       "\n",
       "Notes:\n",
       "[1] Standard Errors assume that the covariance matrix of the errors is correctly specified.\n",
       "[2] The condition number is large, 2.17e+03. This might indicate that there are\n",
       "strong multicollinearity or other numerical problems.\n",
       "\"\"\""
      ]
     },
     "execution_count": 38,
     "metadata": {},
     "output_type": "execute_result"
    }
   ],
   "source": [
    "# Ajustando o modelo de regressão linear com log da renda como variável dependente\n",
    "eq2 = ''' np.log(renda) ~ sexo\n",
    "                   + posse_de_veiculo\n",
    "                   + posse_de_imovel\n",
    "                   + qtd_filhos\n",
    "                   + tipo_renda\n",
    "                   + educacao\n",
    "                   + estado_civil\n",
    "                   + tipo_residencia\n",
    "                   + idade\n",
    "                   + tempo_emprego\n",
    "                   + qt_pessoas_residencia\n",
    "                   '''\n",
    "y_train, X_train= patsy.dmatrices(formula_like=eq2, data=df_train)\n",
    "y_test, X_test = patsy.dmatrices(formula_like=eq2, data=df_test)\n",
    "\n",
    "modelo = sm.OLS(y_train, X_train)\n",
    "\n",
    "reg = modelo.fit()\n",
    "reg.summary()"
   ]
  },
  {
   "cell_type": "markdown",
   "metadata": {},
   "source": [
    "<h4 style=\"color:green\">O desempenho do modelo melhora consideravelmente ao utilizarmos o log de renda como variável dependente, apresentando um valor para o R quadrado de 0.356 </h4>"
   ]
  },
  {
   "cell_type": "markdown",
   "metadata": {},
   "source": [
    "\n",
    "#### **Ex. 7. Ajuste uma árvore de regressão e veja se consegue um $R^2$ melhor com ela.**"
   ]
  },
  {
   "cell_type": "code",
   "execution_count": 42,
   "metadata": {},
   "outputs": [],
   "source": [
    "eq2 = ''' renda ~ sexo\n",
    "                   + posse_de_veiculo\n",
    "                   + posse_de_imovel\n",
    "                   + qtd_filhos\n",
    "                   + tipo_renda\n",
    "                   + educacao\n",
    "                   + estado_civil\n",
    "                   + tipo_residencia\n",
    "                   + idade\n",
    "                   + tempo_emprego\n",
    "                   + qt_pessoas_residencia\n",
    "                   '''\n",
    "\n",
    "y, X = patsy.dmatrices(\n",
    "    eq2,\n",
    "    df\n",
    ")\n",
    "\n",
    "y = y.ravel()\n",
    "X_train, X_test, y_train, y_test = train_test_split(X, y, random_state=104)\n",
    "tree1 = DecisionTreeRegressor(max_depth=7)\n",
    "tree1.fit(X_train, y_train)\n",
    "\n",
    "y_pred = tree1.predict(X_test)\n",
    "\n",
    "results_df_tree = pd.DataFrame({\n",
    "    'Actual': y_test,\n",
    "    'y_pred': y_pred\n",
    "})"
   ]
  },
  {
   "cell_type": "code",
   "execution_count": 43,
   "metadata": {},
   "outputs": [
    {
     "data": {
      "text/plain": [
       "0.4465286572782352"
      ]
     },
     "execution_count": 43,
     "metadata": {},
     "output_type": "execute_result"
    }
   ],
   "source": [
    "r_squared = tree1.score(X_test, y_test)\n",
    "r_squared"
   ]
  },
  {
   "cell_type": "markdown",
   "metadata": {},
   "source": [
    "<h4 style=\"color:green\">Em geral, o R quadrado se apresenta bem maior no modelo de árvore de regressão</h4>"
   ]
  },
  {
   "cell_type": "code",
   "execution_count": null,
   "metadata": {},
   "outputs": [],
   "source": []
  }
 ],
 "metadata": {
  "kernelspec": {
   "display_name": "Python 3 (ipykernel)",
   "language": "python",
   "name": "python3"
  },
  "language_info": {
   "codemirror_mode": {
    "name": "ipython",
    "version": 3
   },
   "file_extension": ".py",
   "mimetype": "text/x-python",
   "name": "python",
   "nbconvert_exporter": "python",
   "pygments_lexer": "ipython3",
   "version": "3.11.7"
  }
 },
 "nbformat": 4,
 "nbformat_minor": 4
}
